{
 "cells": [
  {
   "cell_type": "code",
   "execution_count": 1,
   "metadata": {},
   "outputs": [],
   "source": [
    "#Limpiar la memoria\n",
    "rm(list=ls())"
   ]
  },
  {
   "cell_type": "code",
   "execution_count": 2,
   "metadata": {},
   "outputs": [],
   "source": [
    "#Ejercicio 1.6"
   ]
  },
  {
   "cell_type": "code",
   "execution_count": 3,
   "metadata": {},
   "outputs": [],
   "source": [
    "#Los datos siguientes son mediciones de intensidad solar directa (en watts/m²) realizadas en distintos días en una localidad\n",
    "# del sur de España.\n",
    "X<-c(562,869,708,775,775,704,809,856,655,806,878,909,918,558,768,870,918,940,946,661,820,898,935,952,957,693,835,905,939,955,960,498,653,730,753)"
   ]
  },
  {
   "cell_type": "code",
   "execution_count": 4,
   "metadata": {},
   "outputs": [],
   "source": [
    "#El problema nos pide contruir un histograma para estos datos"
   ]
  },
  {
   "cell_type": "code",
   "execution_count": 5,
   "metadata": {},
   "outputs": [
    {
     "data": {
      "image/png": "[encoded data removed]",
      "text/plain": [
       "Plot with title “Histograma de intensidad solar directa”"
      ]
     },
     "metadata": {},
     "output_type": "display_data",
     "source": "R display func"
    }
   ],
   "source": [
    "#Construyendo el histograma de los datos \n",
    "hist(X, main=\"Histograma de intensidad solar directa\",col=\"red\",xlab=\"Watts/m²\",freq=TRUE,)"
   ]
  },
  {
   "cell_type": "code",
   "execution_count": 6,
   "metadata": {},
   "outputs": [],
   "source": [
    "#Ejercicio 1.7"
   ]
  },
  {
   "cell_type": "code",
   "execution_count": 7,
   "metadata": {},
   "outputs": [],
   "source": [
    "#Un artículo publicado en Technometrics (Vol. 19, 1977, pág. 425) presenta los datos siguientes sobre el octanaje de varias mezclas \n",
    "#de gasolina:"
   ]
  },
  {
   "cell_type": "code",
   "execution_count": 8,
   "metadata": {},
   "outputs": [],
   "source": [
    "y<-c(88.5,87.1,83.4,86.7,87.5,91.5,88.6,100.3,96.5,93.3,94.7,91.1,91.0,94.2,87.8,89.9,88.3,87.6,84.3,86.7,84.3,86.7,88.2,90.8,88.3,98.8,94.2,92.7,93.2,91.0,90.1,93.4,88.5,90.1,89.2,88.3,85.3,87.9,88.6,90.9,89.0,96.1,93.3,91.8,92.3,90.4,90.1,93.0,88.7,89.9,89.8,89.6,87.4,88.4,88.9,91.2,89.3,94.4,92.7,91.8,91.6,90.4,91.1,92.6,89.8,90.6,91.1,90.4,89.3,87.7,90.3,91.6,90.5,93.7,92.7,92.2,92.2,91.2,91.0,92.2,90.0,90.7)"
   ]
  },
  {
   "cell_type": "code",
   "execution_count": 9,
   "metadata": {},
   "outputs": [
    {
     "name": "stdout",
     "output_type": "stream",
     "text": [
      "\n",
      "  The decimal point is at the |\n",
      "\n",
      "   83 | 4\n",
      "   84 | 33\n",
      "   85 | 3\n",
      "   86 | 777\n",
      "   87 | 1456789\n",
      "   88 | 23334556679\n",
      "   89 | 023368899\n",
      "   90 | 0111344456789\n",
      "   91 | 0001112256688\n",
      "   92 | 22236777\n",
      "   93 | 023347\n",
      "   94 | 2247\n",
      "   95 | \n",
      "   96 | 15\n",
      "   97 | \n",
      "   98 | 8\n",
      "   99 | \n",
      "  100 | 3\n",
      "\n"
     ]
    }
   ],
   "source": [
    "#Creando el diagrama de tallo y hoja\n",
    "stem(y,2)"
   ]
  },
  {
   "cell_type": "code",
   "execution_count": 10,
   "metadata": {},
   "outputs": [],
   "source": [
    "#Ejercicio 1.9"
   ]
  },
  {
   "cell_type": "code",
   "execution_count": 11,
   "metadata": {},
   "outputs": [],
   "source": [
    "#La siguiente tabla representa el porcentaje de algodón en un material utilizado para la fabricación de camisas para caballeros."
   ]
  },
  {
   "cell_type": "code",
   "execution_count": 12,
   "metadata": {},
   "outputs": [],
   "source": [
    "z<-c(34.2,33.6,33.8,37.8,34.7,32.6,35.8,34.6,\n",
    "     33.1,34.7,34.2,33.6,36.6,33.1,37.6,33.6,\n",
    "     34.5,35.0,33.4,32.5,35.4,34.6,37.3,34.1,\n",
    "     35.6,35.4,34.7,34.1,34.6,35.9,34.6,34.7,\n",
    "     36.3,36.2,34.6,35.1,33.8,34.7,35.5,35.7,\n",
    "     35.1,36.8,35.2,36.8,37.1,33.6,32.8,36.8,\n",
    "     34.7,35.1,35.0,37.9,34.0,32.9,32.1,34.3,\n",
    "     33.6,35.3,34.9,36.4,34.1,33.5,34.5,32.7)"
   ]
  },
  {
   "cell_type": "code",
   "execution_count": 13,
   "metadata": {},
   "outputs": [],
   "source": [
    "#El problema nos pide calcular un diagrama de tallo y hoja en pantalla para estos datos\n"
   ]
  },
  {
   "cell_type": "code",
   "execution_count": 14,
   "metadata": {},
   "outputs": [
    {
     "name": "stdout",
     "output_type": "stream",
     "text": [
      "\n",
      "  The decimal point is at the |\n",
      "\n",
      "  32 | 1\n",
      "  32 | 56789\n",
      "  33 | 114\n",
      "  33 | 56666688\n",
      "  34 | 0111223\n",
      "  34 | 55666667777779\n",
      "  35 | 001112344\n",
      "  35 | 56789\n",
      "  36 | 234\n",
      "  36 | 6888\n",
      "  37 | 13\n",
      "  37 | 689\n",
      "\n"
     ]
    }
   ],
   "source": [
    "#Creando el diagrama de tallo y hoja\n",
    "stem(z,2)"
   ]
  },
  {
   "cell_type": "code",
   "execution_count": 15,
   "metadata": {},
   "outputs": [],
   "source": [
    "#Ejercicio 1.10"
   ]
  },
  {
   "cell_type": "code",
   "execution_count": 16,
   "metadata": {},
   "outputs": [],
   "source": [
    "#Los datos siguientes representan el rendimiento de 90 lotes consecutivos de un sustrato cerámico, en el que se ha aplicado un \n",
    "#recubrimiento metálico mediante un proceso de despositación de vapor"
   ]
  },
  {
   "cell_type": "code",
   "execution_count": 17,
   "metadata": {},
   "outputs": [],
   "source": [
    "q<-c(94.1,87.3,94.1,92.4,84.6,85.4,\n",
    "     93.2,84.1,92.1,90.6,83.6,86.6,\n",
    "     90.6,90.1,96.4,89.1,85.4,91.7,\n",
    "     91.4,95.2,88.2,88.8,89.7,87.5,\n",
    "     88.2,86.1,86.4,86.4,87.6,84.2,\n",
    "     86.1,94.3,85.0,85.1,85.1,85.1,\n",
    "     95.1,93.2,84.9,84.0,89.6,90.5,\n",
    "     90.0,86.7,78.3,93.7,90.0,95.6,\n",
    "     92.4,83.0,89.6,87.7,90.1,88.3,\n",
    "     87.3,95.3,90.3,90.6,94.3,84.1,\n",
    "     86.6,94.1,93.1,89.4,97.3,83.7,\n",
    "     91.2,97.8,94.6,88.6,96.8,82.9,\n",
    "     86.1,93.1,96.3,84.1,94.4,87.3,\n",
    "     90.4,86.4,94.7,82.6,96.1,86.4,\n",
    "     89.1,87.6,91.1,83.1,98.0,84.5)"
   ]
  },
  {
   "cell_type": "code",
   "execution_count": 18,
   "metadata": {},
   "outputs": [],
   "source": [
    "#El problema nos pide contruir un driagrama de tallo y hoja en pantalla para estos datos"
   ]
  },
  {
   "cell_type": "code",
   "execution_count": 19,
   "metadata": {},
   "outputs": [
    {
     "name": "stdout",
     "output_type": "stream",
     "text": [
      "\n",
      "  The decimal point is at the |\n",
      "\n",
      "  78 | 3\n",
      "  80 | \n",
      "  82 | 690167\n",
      "  84 | 01112569011144\n",
      "  86 | 11144446673335667\n",
      "  88 | 22368114667\n",
      "  90 | 00113456661247\n",
      "  92 | 14411227\n",
      "  94 | 111334671236\n",
      "  96 | 134838\n",
      "  98 | 0\n",
      "\n"
     ]
    }
   ],
   "source": [
    "#Creando el diagrama de tallo y hoja\n",
    "stem(q)"
   ]
  },
  {
   "cell_type": "code",
   "execution_count": 20,
   "metadata": {},
   "outputs": [],
   "source": [
    "#Ejercicio 1.11"
   ]
  },
  {
   "cell_type": "code",
   "execution_count": 21,
   "metadata": {},
   "outputs": [],
   "source": [
    "#Ejercicio 1.13"
   ]
  },
  {
   "cell_type": "code",
   "execution_count": 22,
   "metadata": {},
   "outputs": [],
   "source": [
    "#Ejercicio 1.14"
   ]
  },
  {
   "cell_type": "code",
   "execution_count": 23,
   "metadata": {},
   "outputs": [],
   "source": [
    "#Ejercicio 1.15"
   ]
  },
  {
   "cell_type": "code",
   "execution_count": null,
   "metadata": {},
   "outputs": [],
   "source": []
  }
 ],
 "metadata": {
  "kernelspec": {
   "display_name": "R",
   "language": "R",
   "name": "ir"
  },
  "language_info": {
   "codemirror_mode": "r",
   "file_extension": ".r",
   "mimetype": "text/x-r-source",
   "name": "R",
   "pygments_lexer": "r",
   "version": "3.4.2"
  }
 },
 "nbformat": 4,
 "nbformat_minor": 2
}
